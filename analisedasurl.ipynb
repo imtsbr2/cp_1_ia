{
  "nbformat": 4,
  "nbformat_minor": 0,
  "metadata": {
    "colab": {
      "provenance": [],
      "authorship_tag": "ABX9TyOrVRbTNohzNiwkaZ7ZobNE",
      "include_colab_link": true
    },
    "kernelspec": {
      "name": "python3",
      "display_name": "Python 3"
    },
    "language_info": {
      "name": "python"
    }
  },
  "cells": [
    {
      "cell_type": "markdown",
      "metadata": {
        "id": "view-in-github",
        "colab_type": "text"
      },
      "source": [
        "<a href=\"https://colab.research.google.com/github/imtsbr2/cp_1_ia/blob/main/analisedasurl.ipynb\" target=\"_parent\"><img src=\"https://colab.research.google.com/assets/colab-badge.svg\" alt=\"Open In Colab\"/></a>"
      ]
    },
    {
      "cell_type": "code",
      "execution_count": 21,
      "metadata": {
        "colab": {
          "base_uri": "https://localhost:8080/"
        },
        "id": "HD2JvJ_4f_pV",
        "outputId": "84b92e3e-f495-4602-b88d-bd041f2ecec5"
      },
      "outputs": [
        {
          "output_type": "stream",
          "name": "stdout",
          "text": [
            "A média da coluna 'length_url' é: 89.87 (Todas URLs)\n",
            "60.43 (URLs Phishing)\n",
            "115.73 (URLs Legítima)\n",
            "A mediana da coluna 'length_url' é: 88.0 (Todas URLs)\n",
            "40.0 (URLs Phishing)\n",
            "102.0 (URLs Legítima)\n",
            "O desvio padrão da coluna 'length_url' é: 59.28 (Todas URLs)\n",
            "58.14(URLs Phishing)\n",
            "47.08 (URLs Legítima)\n"
          ]
        },
        {
          "output_type": "stream",
          "name": "stderr",
          "text": [
            "<ipython-input-21-fb47d4a5153a>:6: UserWarning: Boolean Series key will be reindexed to match DataFrame index.\n",
            "  df1 = amostra_df[df['phishing'] == 1] # phishing\n",
            "<ipython-input-21-fb47d4a5153a>:7: UserWarning: Boolean Series key will be reindexed to match DataFrame index.\n",
            "  df0 = amostra_df[df['phishing'] == 0] # legítima\n"
          ]
        }
      ],
      "source": [
        "import pandas as pd\n",
        "# Carregar o CSV\n",
        "df = pd.read_csv('https://raw.githubusercontent.com/imtsbr2/cp_1_ia/main/urls_phishing_checkpoint1.csv')\n",
        "amostra_df = df.sample(4000, random_state = 999)\n",
        "# Dividir o DataFrame em dois subconjuntos\n",
        "df1 = amostra_df[df['phishing'] == 1] # phishing\n",
        "df0 = amostra_df[df['phishing'] == 0] # legítima\n",
        "\n",
        "# Média de todas as observações da base\n",
        "mean_value = round(df['length_url'].mean(),2)\n",
        "print(f\"A média da coluna 'length_url' é: {mean_value} (Todas URLs)\")\n",
        "# Média das URLs - Phishing\n",
        "mean_value1 = round(df1['length_url'].mean(),2)\n",
        "print(f\"{mean_value1} (URLs Phishing)\")\n",
        "# Média das URLs - Legítima\n",
        "mean_value0 = round(df0['length_url'].mean(),2)\n",
        "print(f\"{mean_value0} (URLs Legítima)\")\n",
        "# Mediana de todas as observações da base\n",
        "median_value = df['length_url'].median()\n",
        "print(f\"A mediana da coluna 'length_url' é: {median_value} (Todas URLs)\")\n",
        "# Mediana das URLs - Phishing\n",
        "median_value1 = df1['length_url'].median()\n",
        "print(f\"{median_value1} (URLs Phishing)\")\n",
        "# Mediana das URLs - Legítima\n",
        "median_value0 = df0['length_url'].median()\n",
        "print(f\"{median_value0} (URLs Legítima)\")\n",
        "\n",
        "# Desvio padrão de todas as observações da base\n",
        "std_value = round(df['length_url'].std(),2)\n",
        "print(f\"O desvio padrão da coluna 'length_url' é: {std_value} (Todas URLs)\")\n",
        "# Desvio padrão das URLs - Phishing\n",
        "std_value1 = round(df1['length_url'].std(),2)\n",
        "print(f\"{std_value1}(URLs Phishing)\")\n",
        "# Desvio padrão das URLs - Legítima\n",
        "std_value0 = round(df0['length_url'].std(),2)\n",
        "print(f\"{std_value0} (URLs Legítima)\")"
      ]
    },
    {
      "cell_type": "code",
      "source": [],
      "metadata": {
        "id": "vbWVRYYTlskC"
      },
      "execution_count": 21,
      "outputs": []
    }
  ]
}